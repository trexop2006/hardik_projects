{
 "cells": [
  {
   "cell_type": "markdown",
   "id": "46959d8c",
   "metadata": {},
   "source": [
    "### 1. Reverse a String"
   ]
  },
  {
   "cell_type": "code",
   "execution_count": null,
   "id": "a1841444",
   "metadata": {},
   "outputs": [],
   "source": [
    "s = \"hello\"\n",
    "print(s[::-1])"
   ]
  },
  {
   "cell_type": "markdown",
   "id": "87c5e4d6",
   "metadata": {},
   "source": [
    "### 2. Check for Palindrome"
   ]
  },
  {
   "cell_type": "code",
   "execution_count": null,
   "id": "d902f896",
   "metadata": {},
   "outputs": [],
   "source": [
    "s = \"madam\"\n",
    "print(s == s[::-1])"
   ]
  },
  {
   "cell_type": "markdown",
   "id": "20a0ee70",
   "metadata": {},
   "source": [
    "### 3. Find Factorial using Recursion"
   ]
  },
  {
   "cell_type": "code",
   "execution_count": null,
   "id": "dcf3149e",
   "metadata": {},
   "outputs": [],
   "source": [
    "def factorial(n):\n",
    "    return 1 if n == 0 else n * factorial(n - 1)\n",
    "print(factorial(5))"
   ]
  },
  {
   "cell_type": "markdown",
   "id": "4ebf077a",
   "metadata": {},
   "source": [
    "### 4. Generate Fibonacci Series (Iterative)"
   ]
  },
  {
   "cell_type": "code",
   "execution_count": null,
   "id": "43dd59d6",
   "metadata": {},
   "outputs": [],
   "source": [
    "def fibonacci(n):\n",
    "    a, b = 0, 1\n",
    "    for _ in range(n):\n",
    "        print(a, end=' ')\n",
    "        a, b = b, a + b\n",
    "fibonacci(10)"
   ]
  },
  {
   "cell_type": "markdown",
   "id": "4b99076c",
   "metadata": {},
   "source": [
    "### 5. Check if a Number is Prime"
   ]
  },
  {
   "cell_type": "code",
   "execution_count": null,
   "id": "5a0126d9",
   "metadata": {},
   "outputs": [],
   "source": [
    "def is_prime(n):\n",
    "    if n <= 1:\n",
    "        return False\n",
    "    for i in range(2, int(n**0.5) + 1):\n",
    "        if n % i == 0:\n",
    "            return False\n",
    "    return True\n",
    "print(is_prime(13))"
   ]
  },
  {
   "cell_type": "markdown",
   "id": "13085ead",
   "metadata": {},
   "source": [
    "### 6. Find GCD of Two Numbers"
   ]
  },
  {
   "cell_type": "code",
   "execution_count": null,
   "id": "fc54c3dd",
   "metadata": {},
   "outputs": [],
   "source": [
    "def gcd(a, b):\n",
    "    while b:\n",
    "        a, b = b, a % b\n",
    "    return a\n",
    "print(gcd(48, 18))"
   ]
  },
  {
   "cell_type": "markdown",
   "id": "594cf990",
   "metadata": {},
   "source": [
    "### 7. Count Vowels in a String"
   ]
  },
  {
   "cell_type": "code",
   "execution_count": null,
   "id": "4e9cad9c",
   "metadata": {},
   "outputs": [],
   "source": [
    "s = \"hello world\"\n",
    "count = sum(1 for ch in s.lower() if ch in 'aeiou')\n",
    "print(count)"
   ]
  },
  {
   "cell_type": "markdown",
   "id": "1fe181db",
   "metadata": {},
   "source": [
    "### 8. Find Duplicate Elements in a List"
   ]
  },
  {
   "cell_type": "code",
   "execution_count": null,
   "id": "b3818601",
   "metadata": {},
   "outputs": [],
   "source": [
    "lst = [1, 2, 3, 2, 4, 1]\n",
    "duplicates = list(set([x for x in lst if lst.count(x) > 1]))\n",
    "print(duplicates)"
   ]
  },
  {
   "cell_type": "markdown",
   "id": "7b04da6d",
   "metadata": {},
   "source": [
    "### 9. Check if Two Strings are Anagrams"
   ]
  },
  {
   "cell_type": "code",
   "execution_count": null,
   "id": "2c042836",
   "metadata": {},
   "outputs": [],
   "source": [
    "from collections import Counter\n",
    "def are_anagrams(s1, s2):\n",
    "    return Counter(s1) == Counter(s2)\n",
    "print(are_anagrams(\"listen\", \"silent\"))"
   ]
  },
  {
   "cell_type": "markdown",
   "id": "00f3627e",
   "metadata": {},
   "source": [
    "### 10. Merge Two Sorted Lists"
   ]
  },
  {
   "cell_type": "code",
   "execution_count": null,
   "id": "69fc318d",
   "metadata": {},
   "outputs": [],
   "source": [
    "def merge_sorted(l1, l2):\n",
    "    return sorted(l1 + l2)\n",
    "print(merge_sorted([1, 3, 5], [2, 4, 6]))"
   ]
  },
  {
   "cell_type": "markdown",
   "id": "8647892a",
   "metadata": {},
   "source": [
    "### 11. Find Missing Number in Range 1 to n"
   ]
  },
  {
   "cell_type": "code",
   "execution_count": null,
   "id": "f207ca5b",
   "metadata": {},
   "outputs": [],
   "source": [
    "lst = [1, 2, 4, 5]\n",
    "n = 5\n",
    "missing = sum(range(1, n+1)) - sum(lst)\n",
    "print(missing)"
   ]
  },
  {
   "cell_type": "markdown",
   "id": "a588b729",
   "metadata": {},
   "source": [
    "### 12. Check if a Number is an Armstrong Number"
   ]
  },
  {
   "cell_type": "code",
   "execution_count": null,
   "id": "eba94528",
   "metadata": {},
   "outputs": [],
   "source": [
    "num = 153\n",
    "total = sum(int(d)**3 for d in str(num))\n",
    "print(total == num)"
   ]
  },
  {
   "cell_type": "markdown",
   "id": "76a37b12",
   "metadata": {},
   "source": [
    "### 13. Check if a String is a Pangram"
   ]
  },
  {
   "cell_type": "code",
   "execution_count": null,
   "id": "36f3610d",
   "metadata": {},
   "outputs": [],
   "source": [
    "import string\n",
    "s = \"The quick brown fox jumps over the lazy dog\"\n",
    "print(set(string.ascii_lowercase).issubset(set(s.lower())))"
   ]
  },
  {
   "cell_type": "markdown",
   "id": "05132ae7",
   "metadata": {},
   "source": [
    "### 14. Remove Duplicates from a List"
   ]
  },
  {
   "cell_type": "code",
   "execution_count": null,
   "id": "f32caa8d",
   "metadata": {},
   "outputs": [],
   "source": [
    "lst = [1, 2, 2, 3, 4, 4]\n",
    "unique = list(set(lst))\n",
    "print(unique)"
   ]
  },
  {
   "cell_type": "markdown",
   "id": "08cfb785",
   "metadata": {},
   "source": [
    "### 15. Find the Second Largest Number in a List"
   ]
  },
  {
   "cell_type": "code",
   "execution_count": null,
   "id": "1f7ad172",
   "metadata": {},
   "outputs": [],
   "source": [
    "lst = [10, 20, 5, 8]\n",
    "unique = list(set(lst))\n",
    "unique.sort()\n",
    "print(unique[-2])"
   ]
  },
  {
   "cell_type": "markdown",
   "id": "53cd1ed5",
   "metadata": {},
   "source": [
    "### 16. Count Occurrences of Elements in a List"
   ]
  },
  {
   "cell_type": "code",
   "execution_count": null,
   "id": "26e01df8",
   "metadata": {},
   "outputs": [],
   "source": [
    "from collections import Counter\n",
    "lst = [1, 2, 2, 3, 1]\n",
    "print(dict(Counter(lst)))"
   ]
  },
  {
   "cell_type": "markdown",
   "id": "4a11cdc1",
   "metadata": {},
   "source": [
    "### 17. Transpose a Matrix"
   ]
  },
  {
   "cell_type": "code",
   "execution_count": null,
   "id": "fe82271e",
   "metadata": {},
   "outputs": [],
   "source": [
    "matrix = [[1, 2], [3, 4]]\n",
    "transpose = [list(row) for row in zip(*matrix)]\n",
    "print(transpose)"
   ]
  },
  {
   "cell_type": "markdown",
   "id": "250671b6",
   "metadata": {},
   "source": [
    "### 18. Implement Linear Search"
   ]
  },
  {
   "cell_type": "code",
   "execution_count": null,
   "id": "f1f4abcb",
   "metadata": {},
   "outputs": [],
   "source": [
    "def linear_search(lst, target):\n",
    "    for i in range(len(lst)):\n",
    "        if lst[i] == target:\n",
    "            return i\n",
    "    return -1\n",
    "print(linear_search([1, 2, 3, 4], 3))"
   ]
  },
  {
   "cell_type": "markdown",
   "id": "f8ade780",
   "metadata": {},
   "source": [
    "### 19. Implement Binary Search"
   ]
  },
  {
   "cell_type": "code",
   "execution_count": null,
   "id": "2c593878",
   "metadata": {},
   "outputs": [],
   "source": [
    "def binary_search(lst, target):\n",
    "    low, high = 0, len(lst) - 1\n",
    "    while low <= high:\n",
    "        mid = (low + high) // 2\n",
    "        if lst[mid] == target:\n",
    "            return mid\n",
    "        elif lst[mid] < target:\n",
    "            low = mid + 1\n",
    "        else:\n",
    "            high = mid - 1\n",
    "    return -1\n",
    "print(binary_search([1, 2, 3, 4, 5], 4))"
   ]
  },
  {
   "cell_type": "markdown",
   "id": "a8770832",
   "metadata": {},
   "source": [
    "### 20. Find Intersection of Two Lists"
   ]
  },
  {
   "cell_type": "code",
   "execution_count": null,
   "id": "afacd456",
   "metadata": {},
   "outputs": [],
   "source": [
    "l1 = [1, 2, 3]\n",
    "l2 = [2, 3, 4]\n",
    "print(list(set(l1) & set(l2)))"
   ]
  },
  {
   "cell_type": "markdown",
   "id": "99e7037d",
   "metadata": {},
   "source": [
    "### 21. Flatten a Nested List"
   ]
  },
  {
   "cell_type": "code",
   "execution_count": null,
   "id": "3f4da270",
   "metadata": {},
   "outputs": [],
   "source": [
    "from itertools import chain\n",
    "nested = [[1, 2], [3, 4]]\n",
    "flat = list(chain.from_iterable(nested))\n",
    "print(flat)"
   ]
  },
  {
   "cell_type": "markdown",
   "id": "0a417c19",
   "metadata": {},
   "source": [
    "### 22. Find All Armstrong Numbers in a Range"
   ]
  },
  {
   "cell_type": "code",
   "execution_count": null,
   "id": "07ac9665",
   "metadata": {},
   "outputs": [],
   "source": [
    "for num in range(100, 1000):\n",
    "    if num == sum(int(d)**3 for d in str(num)):\n",
    "        print(num, end=' ')"
   ]
  },
  {
   "cell_type": "markdown",
   "id": "5fedacab",
   "metadata": {},
   "source": [
    "### 23. Count Number of Words in a String"
   ]
  },
  {
   "cell_type": "code",
   "execution_count": null,
   "id": "f6452c7a",
   "metadata": {},
   "outputs": [],
   "source": [
    "s = \"Hello world, how are you?\"\n",
    "words = s.split()\n",
    "print(len(words))"
   ]
  },
  {
   "cell_type": "markdown",
   "id": "72e29f0c",
   "metadata": {},
   "source": [
    "### 24. Implement String Compression (a3b2c2)"
   ]
  },
  {
   "cell_type": "code",
   "execution_count": null,
   "id": "21837b78",
   "metadata": {},
   "outputs": [],
   "source": [
    "def compress(s):\n",
    "    result = \"\"\n",
    "    i = 0\n",
    "    while i < len(s):\n",
    "        count = 1\n",
    "        while i+1 < len(s) and s[i] == s[i+1]:\n",
    "            count += 1\n",
    "            i += 1\n",
    "        result += s[i] + str(count)\n",
    "        i += 1\n",
    "    return result\n",
    "print(compress(\"aaabbcc\"))"
   ]
  },
  {
   "cell_type": "markdown",
   "id": "ffa86e2b",
   "metadata": {},
   "source": [
    "### 25. Print Pascal’s Triangle up to n Rows"
   ]
  },
  {
   "cell_type": "code",
   "execution_count": null,
   "id": "863940bc",
   "metadata": {},
   "outputs": [],
   "source": [
    "def pascal_triangle(n):\n",
    "    for i in range(n):\n",
    "        val = 1\n",
    "        for j in range(i+1):\n",
    "            print(val, end=' ')\n",
    "            val = val * (i - j) // (j + 1)\n",
    "        print()\n",
    "pascal_triangle(5)"
   ]
  },
  {
   "cell_type": "markdown",
   "id": "dab27ff8",
   "metadata": {},
   "source": [
    "### 26. Find the Majority Element in a List"
   ]
  },
  {
   "cell_type": "code",
   "execution_count": null,
   "id": "1411fbe6",
   "metadata": {},
   "outputs": [],
   "source": [
    "from collections import Counter\n",
    "lst = [1, 2, 2, 2, 3]\n",
    "count = Counter(lst)\n",
    "majority = max(count, key=count.get)\n",
    "print(majority)"
   ]
  },
  {
   "cell_type": "markdown",
   "id": "faf09dc7",
   "metadata": {},
   "source": [
    "### 27. Move All Zeros to End of List"
   ]
  },
  {
   "cell_type": "code",
   "execution_count": null,
   "id": "c8b2520d",
   "metadata": {},
   "outputs": [],
   "source": [
    "lst = [0, 1, 0, 3, 12]\n",
    "res = [x for x in lst if x != 0] + [0]*lst.count(0)\n",
    "print(res)"
   ]
  },
  {
   "cell_type": "markdown",
   "id": "14b26cb7",
   "metadata": {},
   "source": [
    "### 28. Implement a Stack using List"
   ]
  },
  {
   "cell_type": "code",
   "execution_count": null,
   "id": "a4780748",
   "metadata": {},
   "outputs": [],
   "source": [
    "stack = []\n",
    "stack.append(10)\n",
    "stack.append(20)\n",
    "stack.pop()\n",
    "print(stack)"
   ]
  },
  {
   "cell_type": "markdown",
   "id": "05a8fb30",
   "metadata": {},
   "source": [
    "### 29. Rotate a List by k Elements"
   ]
  },
  {
   "cell_type": "code",
   "execution_count": null,
   "id": "e8f64aa2",
   "metadata": {},
   "outputs": [],
   "source": [
    "lst = [1, 2, 3, 4, 5]\n",
    "k = 2\n",
    "rotated = lst[k:] + lst[:k]\n",
    "print(rotated)"
   ]
  },
  {
   "cell_type": "markdown",
   "id": "5993576a",
   "metadata": {},
   "source": [
    "### 30. Check if a List is Sorted"
   ]
  },
  {
   "cell_type": "code",
   "execution_count": null,
   "id": "99b77d30",
   "metadata": {},
   "outputs": [],
   "source": [
    "lst = [1, 2, 3, 4]\n",
    "print(lst == sorted(lst))"
   ]
  }
 ],
 "metadata": {},
 "nbformat": 4,
 "nbformat_minor": 5
}