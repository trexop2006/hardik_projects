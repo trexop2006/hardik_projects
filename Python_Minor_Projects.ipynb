{
  "nbformat": 4,
  "nbformat_minor": 0,
  "metadata": {
    "colab": {
      "provenance": []
    },
    "kernelspec": {
      "name": "python3",
      "display_name": "Python 3"
    },
    "language_info": {
      "name": "python"
    }
  },
  "cells": [
    {
      "cell_type": "code",
      "execution_count": null,
      "metadata": {
        "colab": {
          "base_uri": "https://localhost:8080/"
        },
        "id": "MQMmhj74f0pR",
        "outputId": "5ab4021c-49a8-4e78-eba5-e9e3ceaa3f6f"
      },
      "outputs": [
        {
          "output_type": "stream",
          "name": "stdout",
          "text": [
            "Enter your marks: 90\n",
            "Your Grade is: A\n"
          ]
        }
      ],
      "source": [
        "#1. Grade Calculator\n",
        "\n",
        "marks = int(input(\"Enter your marks: \"))\n",
        "\n",
        "if marks >= 90:\n",
        "    grade = \"A\"\n",
        "\n",
        "elif marks >= 80:\n",
        "    grade = \"B\"\n",
        "\n",
        "elif marks >= 70:\n",
        "    grade = \"C\"\n",
        "\n",
        "elif marks >= 60:\n",
        "    grade = \"D\"\n",
        "\n",
        "elif marks >= 40:\n",
        "    grade = \"E\"\n",
        "\n",
        "else:\n",
        "    grade = \"F (Fail)\"\n",
        "\n",
        "print(\"Your Grade is: \", grade)"
      ]
    },
    {
      "cell_type": "code",
      "source": [
        "#2. Simple Calculator\n",
        "\n",
        "num1 = float(input(\"Enter first number: \"))\n",
        "num2 = float(input(\"Enter second number: \"))\n",
        "operator = input(\"Choose operation (+, -, *, /): \")\n",
        "\n",
        "if operator == '+':\n",
        "    print(\"Result:\", num1 + num2)\n",
        "\n",
        "elif operator == '-':\n",
        "    print(\"Result:\", num1 - num2)\n",
        "\n",
        "elif operator == '*':\n",
        "    print(\"Result:\", num1 * num2)\n",
        "\n",
        "elif operator == '/':\n",
        "    if num2 != 0:\n",
        "        print(\"Result:\", num1 / num2)\n",
        "    else:\n",
        "        print(\"Error: Cannot divide by zero\")\n",
        "\n",
        "else:\n",
        "    print(\"Invalid operator\")"
      ],
      "metadata": {
        "colab": {
          "base_uri": "https://localhost:8080/"
        },
        "id": "P0LFfCDfiFxE",
        "outputId": "1fa676b9-e544-4574-9f35-20738e9b96f2"
      },
      "execution_count": null,
      "outputs": [
        {
          "output_type": "stream",
          "name": "stdout",
          "text": [
            "Enter first number: 50\n",
            "Enter second number: 25\n",
            "Choose operation (+, -, *, /): +\n",
            "Result: 75.0\n"
          ]
        }
      ]
    },
    {
      "cell_type": "code",
      "source": [
        "#3. Age Checker\n",
        "\n",
        "age = int(input(\"Enter your age: \"))\n",
        "\n",
        "if age >= 18:\n",
        "    print(\"You are eligible to vote and drive.\")\n",
        "\n",
        "elif age >= 16:\n",
        "    print(\"You are eligible to drive two-wheeler (depending on country) but not to vote.\")\n",
        "\n",
        "else:\n",
        "    print(\"You are not eligible to vote or drive.\")"
      ],
      "metadata": {
        "id": "Jq2_6fFpjcBg",
        "colab": {
          "base_uri": "https://localhost:8080/"
        },
        "outputId": "684fa45f-bef7-4224-989e-6b6c52358c08"
      },
      "execution_count": 9,
      "outputs": [
        {
          "output_type": "stream",
          "name": "stdout",
          "text": [
            "Enter your age: 20\n",
            "You are eligible to vote and drive.\n"
          ]
        }
      ]
    },
    {
      "cell_type": "code",
      "source": [
        "#4. Bus Ticket Fare Calculator\n",
        "\n",
        "base_fare = 100\n",
        "age = int(input(\"Enter your age: \"))\n",
        "\n",
        "if age <= 5:\n",
        "    fare = 0\n",
        "\n",
        "elif age <= 12:\n",
        "    fare = base_fare * 0.5  # 50% discount\n",
        "\n",
        "elif age >= 60:\n",
        "    fare = base_fare * 0.7  # 30% discount\n",
        "\n",
        "else:\n",
        "    fare = base_fare\n",
        "\n",
        "print(\"Your ticket fare is: \",fare)"
      ],
      "metadata": {
        "colab": {
          "base_uri": "https://localhost:8080/"
        },
        "id": "98Q8DplckPUt",
        "outputId": "a6f20e44-58da-4014-c06f-9a538a1a0ba5"
      },
      "execution_count": 3,
      "outputs": [
        {
          "output_type": "stream",
          "name": "stdout",
          "text": [
            "Enter your age: 18\n",
            "Your ticket fare is:  100\n"
          ]
        }
      ]
    },
    {
      "cell_type": "code",
      "source": [
        "#5. Electricity Bill Generator\n",
        "\n",
        "units = int(input(\"Enter electricity units consumed: \"))\n",
        "\n",
        "if units <= 100:\n",
        "    rate = 5\n",
        "\n",
        "elif units <= 200:\n",
        "    rate = 7\n",
        "\n",
        "elif units <= 300:\n",
        "    rate = 10\n",
        "\n",
        "else:\n",
        "    rate = 12\n",
        "\n",
        "bill = units * rate\n",
        "print(\"Your electricity bill is: ₹\", bill)"
      ],
      "metadata": {
        "colab": {
          "base_uri": "https://localhost:8080/"
        },
        "id": "sPDBrY4ukwWu",
        "outputId": "033c2ccc-ec23-4c84-b3f1-2f88c4997115"
      },
      "execution_count": 5,
      "outputs": [
        {
          "output_type": "stream",
          "name": "stdout",
          "text": [
            "Enter electricity units consumed: 200\n",
            "Your electricity bill is: ₹ 1400\n"
          ]
        }
      ]
    },
    {
      "cell_type": "code",
      "source": [
        "#6. Library Fine Calculator\n",
        "\n",
        "days = int(input(\"Enter number of overdue days: \"))\n",
        "\n",
        "if days <= 0:\n",
        "    fine = 0\n",
        "\n",
        "elif days <= 5:\n",
        "    fine = days * 1\n",
        "\n",
        "elif days <= 10:\n",
        "    fine = (5 * 1) + (days - 5) * 2\n",
        "\n",
        "else:\n",
        "    fine = (5 * 1) + (5 * 2) + (days - 10) * 5\n",
        "\n",
        "print(\"Your total fine is: ₹\",fine)\n",
        "\n"
      ],
      "metadata": {
        "colab": {
          "base_uri": "https://localhost:8080/"
        },
        "id": "RYu539jomcAk",
        "outputId": "07fc11ff-ac07-485e-fbd4-a10762f51a88"
      },
      "execution_count": 7,
      "outputs": [
        {
          "output_type": "stream",
          "name": "stdout",
          "text": [
            "Enter number of overdue days: 12\n",
            "Your total fine is: ₹ 25\n"
          ]
        }
      ]
    },
    {
      "cell_type": "code",
      "source": [
        "#7. Simple Login System\n",
        "\n",
        "correct_username = \"admin\"\n",
        "correct_password = \"1234\"\n",
        "attempts = 3\n",
        "\n",
        "while attempts > 0:\n",
        "    username = input(\"Enter username: \")\n",
        "    password = input(\"Enter password: \")\n",
        "\n",
        "    if username == correct_username and password == correct_password:\n",
        "        print(\"Login Successful!\")\n",
        "        break\n",
        "\n",
        "    else:\n",
        "        attempts -= 1\n",
        "        print(\"Incorrect credentials. Attempts left:\", attempts)\n",
        "\n",
        "if attempts == 0:\n",
        "   print(\"Account locked. Too many failed attempts.\")\n",
        ""
      ],
      "metadata": {
        "colab": {
          "base_uri": "https://localhost:8080/"
        },
        "id": "mQGrnlCIna3Q",
        "outputId": "ac6c9cff-fd3a-44bc-ceaa-8ca75543048b"
      },
      "execution_count": 8,
      "outputs": [
        {
          "output_type": "stream",
          "name": "stdout",
          "text": [
            "Enter username: admin\n",
            "Enter password: 1234\n",
            "Login Successful!\n"
          ]
        }
      ]
    }
  ]
}