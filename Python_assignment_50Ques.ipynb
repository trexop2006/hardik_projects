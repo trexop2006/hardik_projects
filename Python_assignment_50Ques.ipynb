{
 "cells": [
  {
   "cell_type": "code",
   "execution_count": null,
   "id": "6e8ca030",
   "metadata": {},
   "outputs": [],
   "source": [
    "def find_largest(a, b, c):\n",
    "    if a >= b and a >= c:\n",
    "        return a\n",
    "    elif b >= a and b >= c:\n",
    "        return b\n",
    "    else:\n",
    "        return c\n",
    "\n",
    "print(find_largest(10, 20, 15))  "
   ]
  },
  {
   "cell_type": "code",
   "execution_count": null,
   "id": "c7311742",
   "metadata": {},
   "outputs": [],
   "source": [
    "def check_even_odd(num):\n",
    "    return \"Even\" if num % 2 == 0 else \"Odd\"\n",
    "\n",
    "\n",
    "print(check_even_odd(7))  "
   ]
  },
  {
   "cell_type": "code",
   "execution_count": null,
   "id": "56e74572",
   "metadata": {},
   "outputs": [],
   "source": [
    "s=\"hello\"\n",
    "print(s[::-1])"
   ]
  },
  {
   "cell_type": "code",
   "execution_count": null,
   "id": "41e24839",
   "metadata": {},
   "outputs": [],
   "source": [
    "s=\"Hello\"\n",
    "v=\"aeiouAEIOU\"\n",
    "print(sum(1 for c in s if c in v))"
   ]
  },
  {
   "cell_type": "code",
   "execution_count": null,
   "id": "5aab776f",
   "metadata": {},
   "outputs": [],
   "source": [
    "a,b=5,3\n",
    "op='+'\n",
    "print(a+b if op=='+' else a-b if op=='-' else a*b if op=='*' else a/b)"
   ]
  },
  {
   "cell_type": "code",
   "execution_count": null,
   "id": "1b24649e",
   "metadata": {},
   "outputs": [],
   "source": [
    "n=11\n",
    "print(all(n%i!=0 for i in range(2,int(n**0.5)+1)))"
   ]
  },
  {
   "cell_type": "code",
   "execution_count": null,
   "id": "3c7f7ef2",
   "metadata": {},
   "outputs": [],
   "source": [
    "n=5\n",
    "for i in range(1,11):print(f\"{n}x{i}={n*i}\")"
   ]
  },
  {
   "cell_type": "code",
   "execution_count": null,
   "id": "f8ff38e5",
   "metadata": {},
   "outputs": [],
   "source": [
    "n=10\n",
    "a,b=0,1\n",
    "for _ in range(n):print(a,end=' ');a,b=b,a+b"
   ]
  },
  {
   "cell_type": "code",
   "execution_count": null,
   "id": "8b7780d9",
   "metadata": {},
   "outputs": [],
   "source": [
    "n=5\n",
    "f=1\n",
    "for i in range(1,n+1):f*=i\n",
    "print(f)"
   ]
  },
  {
   "cell_type": "code",
   "execution_count": null,
   "id": "1be9c7ec",
   "metadata": {},
   "outputs": [],
   "source": [
    "n=121\n",
    "print(str(n)==str(n)[::-1])"
   ]
  },
  {
   "cell_type": "code",
   "execution_count": null,
   "id": "c448c754",
   "metadata": {},
   "outputs": [],
   "source": [
    "n=1234\n",
    "s=0\n",
    "while n>0:s+=n%10;n//=10\n",
    "print(s)"
   ]
  },
  {
   "cell_type": "code",
   "execution_count": null,
   "id": "f27440e1",
   "metadata": {},
   "outputs": [],
   "source": [
    "c=37\n",
    "print((c*9/5)+32)"
   ]
  },
  {
   "cell_type": "code",
   "execution_count": null,
   "id": "3f639742",
   "metadata": {},
   "outputs": [],
   "source": [
    "a,b=10,20\n",
    "print(a if a>b else b)"
   ]
  },
  {
   "cell_type": "code",
   "execution_count": null,
   "id": "e240ab40",
   "metadata": {},
   "outputs": [],
   "source": [
    "l=[10,20,30,40]\n",
    "print(sum(l)/len(l))"
   ]
  },
  {
   "cell_type": "code",
   "execution_count": null,
   "id": "18389d97",
   "metadata": {},
   "outputs": [],
   "source": [
    "l=[10,20,5,15]\n",
    "print(sorted(set(l))[-2])"
   ]
  },
  {
   "cell_type": "code",
   "execution_count": null,
   "id": "022c1bb3",
   "metadata": {},
   "outputs": [],
   "source": [
    "s=\"Hello world\"\n",
    "print(len(s.split()))"
   ]
  },
  {
   "cell_type": "code",
   "execution_count": null,
   "id": "b4b7a531",
   "metadata": {},
   "outputs": [],
   "source": [
    "l=[1,2,2,3,4,4]\n",
    "print(list(set(l)))"
   ]
  },
  {
   "cell_type": "code",
   "execution_count": null,
   "id": "a919c374",
   "metadata": {},
   "outputs": [],
   "source": [
    "k=['a','b'];v=[1,2]\n",
    "print(dict(zip(k,v)))"
   ]
  },
  {
   "cell_type": "code",
   "execution_count": null,
   "id": "ae4ca7d6",
   "metadata": {},
   "outputs": [],
   "source": [
    "l=[3,1,4,2]\n",
    "for i in range(len(l)):\n",
    "    for j in range(i+1,len(l)):\n",
    "        if l[i]>l[j]:l[i],l[j]=l[j],l[i]\n",
    "print(l)"
   ]
  },
  {
   "cell_type": "code",
   "execution_count": null,
   "id": "dff12035",
   "metadata": {},
   "outputs": [],
   "source": [
    "s=\"The quick brown fox\"\n",
    "a=set(\"abcdefghijklmnopqrstuvwxyz\")\n",
    "print(a.issubset(s.lower()))"
   ]
  },
  {
   "cell_type": "code",
   "execution_count": null,
   "id": "2d1a5289",
   "metadata": {},
   "outputs": [],
   "source": [
    "s=\"123\"\n",
    "print(s.isdigit())"
   ]
  },
  {
   "cell_type": "code",
   "execution_count": null,
   "id": "bebcd8b5",
   "metadata": {},
   "outputs": [],
   "source": [
    "s1,s2=\"listen\",\"silent\"\n",
    "print(sorted(s1)==sorted(s2))"
   ]
  },
  {
   "cell_type": "code",
   "execution_count": null,
   "id": "ad5ec0d1",
   "metadata": {},
   "outputs": [],
   "source": [
    "n=10\n",
    "print(bin(n),oct(n),hex(n))"
   ]
  },
  {
   "cell_type": "code",
   "execution_count": null,
   "id": "e461208b",
   "metadata": {},
   "outputs": [],
   "source": [
    "l=[30,60,70,40]\n",
    "print([x for x in l if x>50])"
   ]
  },
  {
   "cell_type": "code",
   "execution_count": null,
   "id": "00240f9e",
   "metadata": {},
   "outputs": [],
   "source": [
    "s=\"Hello\"\n",
    "print(sum(1 for c in s if c.isupper()),sum(1 for c in s if c.islower()))"
   ]
  },
  {
   "cell_type": "code",
   "execution_count": null,
   "id": "26e04745",
   "metadata": {},
   "outputs": [],
   "source": [
    "l=[1,2,3]\n",
    "print(list(map(lambda x:x*x,l)))"
   ]
  },
  {
   "cell_type": "code",
   "execution_count": null,
   "id": "458e7e6c",
   "metadata": {},
   "outputs": [],
   "source": [
    "print([x for x in range(2,101) if all(x%i!=0 for i in range(2,x))])"
   ]
  },
  {
   "cell_type": "code",
   "execution_count": null,
   "id": "5ea975b0",
   "metadata": {},
   "outputs": [],
   "source": [
    "a,b=5,3\n",
    "print((lambda x,y:x+y)(a,b))"
   ]
  },
  {
   "cell_type": "code",
   "execution_count": null,
   "id": "b9c08701",
   "metadata": {},
   "outputs": [],
   "source": [
    "f=lambda n:1 if n<2 else n*f(n-1)\n",
    "print(f(5))"
   ]
  },
  {
   "cell_type": "code",
   "execution_count": null,
   "id": "38e9926b",
   "metadata": {},
   "outputs": [],
   "source": [
    "class S:\n",
    "    def __init__(s,n,a):s.n,s.a=n,a\n",
    "s=S(\"A\",20)\n",
    "print(s.n,s.a)"
   ]
  },
  {
   "cell_type": "code",
   "execution_count": null,
   "id": "ae1bc0be",
   "metadata": {},
   "outputs": [],
   "source": [
    "with open('f.txt') as f:\n",
    "    l=f.readlines()\n",
    "    print(len(l),sum(len(x.split()) for x in l))"
   ]
  },
  {
   "cell_type": "code",
   "execution_count": 1,
   "id": "7766fdf7",
   "metadata": {},
   "outputs": [
    {
     "name": "stdout",
     "output_type": "stream",
     "text": [
      "1.0002481937408447\n"
     ]
    }
   ],
   "source": [
    "import time\n",
    "def t(f):\n",
    "    def w():\n",
    "        s=time.time()\n",
    "        f()\n",
    "        print(time.time()-s)\n",
    "    return w\n",
    "@t\n",
    "def x():time.sleep(1)\n",
    "x()"
   ]
  },
  {
   "cell_type": "code",
   "execution_count": null,
   "id": "85cc2899",
   "metadata": {},
   "outputs": [],
   "source": [
    "class B:\n",
    "    def __init__(s,b=0):s.b=b\n",
    "    def d(s,a):s.b+=a\n",
    "    def w(s,a):s.b-=a\n",
    "b=B(100)\n",
    "b.d(50)\n",
    "print(b.b)"
   ]
  },
  {
   "cell_type": "code",
   "execution_count": null,
   "id": "f01c1e66",
   "metadata": {},
   "outputs": [],
   "source": [
    "def g(n):\n",
    "    for i in range(2,n+1,2):yield i\n",
    "print(list(g(10)))"
   ]
  },
  {
   "cell_type": "code",
   "execution_count": null,
   "id": "09561336",
   "metadata": {},
   "outputs": [],
   "source": [
    "def f(*a,**k):print(a,k)\n",
    "f(1,2,x=3)"
   ]
  },
  {
   "cell_type": "code",
   "execution_count": null,
   "id": "9c880661",
   "metadata": {},
   "outputs": [],
   "source": [
    "print([x*x for x in range(2,21,2)])"
   ]
  },
  {
   "cell_type": "code",
   "execution_count": null,
   "id": "9d49b1bb",
   "metadata": {},
   "outputs": [],
   "source": [
    "l=[1,2,2,3]\n",
    "print(list(set(l)))"
   ]
  },
  {
   "cell_type": "code",
   "execution_count": null,
   "id": "e0ab4b74",
   "metadata": {},
   "outputs": [],
   "source": [
    "d1={'a':1};d2={'b':2}\n",
    "print({**d1,**d2})"
   ]
  },
  {
   "cell_type": "code",
   "execution_count": null,
   "id": "7cc8a67a",
   "metadata": {},
   "outputs": [],
   "source": [
    "class A:def m(s):return 1\n",
    "class B(A):def m(s):return 2\n",
    "print(B().m())"
   ]
  },
  {
   "cell_type": "code",
   "execution_count": null,
   "id": "d8460d84",
   "metadata": {},
   "outputs": [],
   "source": [
    "l1=[1,2];l2=[2,3]\n",
    "print(list(set(l1)&set(l2)))"
   ]
  },
  {
   "cell_type": "code",
   "execution_count": null,
   "id": "b3e83a17",
   "metadata": {},
   "outputs": [],
   "source": [
    "try:1/0\n",
    "except:print(\"Error\")\n",
    "finally:print(\"Done\")"
   ]
  },
  {
   "cell_type": "code",
   "execution_count": null,
   "id": "cf777257",
   "metadata": {},
   "outputs": [],
   "source": [
    "import json\n",
    "j='{\"x\":1}'\n",
    "print(json.loads(j))"
   ]
  },
  {
   "cell_type": "code",
   "execution_count": null,
   "id": "f571f1b3",
   "metadata": {},
   "outputs": [],
   "source": [
    "class C:\n",
    "    def __init__(s):s.__x=1\n",
    "print(C()._C__x)"
   ]
  },
  {
   "cell_type": "code",
   "execution_count": 2,
   "id": "cab3bce0",
   "metadata": {},
   "outputs": [
    {
     "name": "stdout",
     "output_type": "stream",
     "text": [
      "True\n"
     ]
    }
   ],
   "source": [
    "import re\n",
    "e=\"a@b.com\"\n",
    "print(bool(re.match(r'^[\\w\\.-]+@[\\w\\.-]+\\.\\w+$',e)))"
   ]
  },
  {
   "cell_type": "code",
   "execution_count": null,
   "id": "14331db7",
   "metadata": {},
   "outputs": [],
   "source": [
    "import csv\n",
    "with open('f.csv') as f:\n",
    "    print(list(csv.DictReader(f)))"
   ]
  },
  {
   "cell_type": "code",
   "execution_count": 3,
   "id": "1e389494",
   "metadata": {},
   "outputs": [
    {
     "name": "stdout",
     "output_type": "stream",
     "text": [
      "Fail\n"
     ]
    }
   ],
   "source": [
    "u={'a':'1'}\n",
    "i,j=input(),input()\n",
    "print(\"Success\" if u.get(i)==j else \"Fail\")"
   ]
  },
  {
   "cell_type": "code",
   "execution_count": null,
   "id": "977af5b9",
   "metadata": {},
   "outputs": [],
   "source": [
    "def f(l):\n",
    "    r=[]\n",
    "    for i in l:\n",
    "        if type(i)==list:r+=f(i)\n",
    "        else:r.append(i)\n",
    "    return r\n",
    "print(f([1,[2]]))"
   ]
  },
  {
   "cell_type": "code",
   "execution_count": null,
   "id": "527dd515",
   "metadata": {},
   "outputs": [],
   "source": [
    "from functools import reduce\n",
    "l=[1,2,3]\n",
    "print(list(map(lambda x:x*x,l)))\n",
    "print(list(filter(lambda x:x%2==0,l)))\n",
    "print(reduce(lambda x,y:x+y,l))"
   ]
  },
  {
   "cell_type": "code",
   "execution_count": null,
   "id": "fdab90f0",
   "metadata": {},
   "outputs": [],
   "source": [
    "while True:\n",
    "    c=input(\"1.Add\\n2.Exit\\n\")\n",
    "    if c=='2':break\n",
    "    a,b=int(input()),int(input())\n",
    "    print(a+b)"
   ]
  },
  {
   "cell_type": "code",
   "execution_count": null,
   "id": "0bb30392",
   "metadata": {},
   "outputs": [],
   "source": [
    "q=[{\"q\":\"2+2?\",\"a\":\"4\"}]\n",
    "s=0\n",
    "for i in q:\n",
    "    if input(i[\"q\"]+\" \")==i[\"a\"]:s+=1\n",
    "print(s)"
   ]
  }
 ],
 "metadata": {
  "kernelspec": {
   "display_name": "Python 3",
   "language": "python",
   "name": "python3"
  },
  "language_info": {
   "codemirror_mode": {
    "name": "ipython",
    "version": 3
   },
   "file_extension": ".py",
   "mimetype": "text/x-python",
   "name": "python",
   "nbconvert_exporter": "python",
   "pygments_lexer": "ipython3",
   "version": "3.11.9"
  }
 },
 "nbformat": 4,
 "nbformat_minor": 5
}
