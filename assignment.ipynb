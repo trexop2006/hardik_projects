{
 "cells": [
  {
   "cell_type": "code",
   "execution_count": null,
   "id": "3d4e6dfa-8244-415b-a171-7ad848d3abcb",
   "metadata": {},
   "outputs": [],
   "source": [
    "def odd():\n",
    "    print(\"this is odd number\")\n",
    "odd()"
   ]
  },
  {
   "cell_type": "code",
   "execution_count": 3,
   "id": "46fad599-9256-4f62-bd53-755c4e1d1993",
   "metadata": {},
   "outputs": [
    {
     "data": {
      "text/plain": [
       "40"
      ]
     },
     "execution_count": 3,
     "metadata": {},
     "output_type": "execute_result"
    }
   ],
   "source": [
    "def add():\n",
    "    return 10+30\n",
    "add()"
   ]
  },
  {
   "cell_type": "code",
   "execution_count": 12,
   "id": "73ab51bf-86e3-401c-8e54-d490979ff19a",
   "metadata": {},
   "outputs": [
    {
     "name": "stdout",
     "output_type": "stream",
     "text": [
      "no is even\n"
     ]
    }
   ],
   "source": [
    "def even(x):\n",
    "    if x%2==0:\n",
    "        print(\"no is even\")\n",
    "    else:\n",
    "        print(\"no is odd\")\n",
    "    \n",
    "even(10)\n",
    "    "
   ]
  },
  {
   "cell_type": "code",
   "execution_count": null,
   "id": "e2b63335-aac3-4aaf-90d0-7c694ef7aad0",
   "metadata": {},
   "outputs": [],
   "source": [
    "def grade1():\n",
    "    print(\"THIS PERSON GOT A GRADE\")\n",
    "def grade2():\n",
    "    print(\"THIS PERSON GOT  B GRADE\")\n",
    "def grade3():\n",
    "    print(\"THIS PERSON GOT C GRADE\")\n",
    "    \n",
    "x=int(input(\"enter the number in english\"))\n",
    "y=int(input(\"enter the number in chemistry\"))\n",
    "z=int(input(\"enter the number in physics\"))\n",
    "t=int(input(\"enter the number in bio\"))\n",
    "k=int(input(\"enter the number in pe\"))\n",
    "marks=(x+y+z+t+k)//5\n",
    "if marks>=90:\n",
    "    grade1()\n",
    "elif marks>=80:\n",
    "    grade1()\n",
    "elif marks>=70:\n",
    "    grade2()\n",
    "elif marks<=60:\n",
    "    grade3()\n",
    "elif marks>=33:\n",
    "    print(\"student got hardly  passed\")\n",
    "else:\n",
    "    print(\"student got failed\")\n",
    "          \n",
    "print (marks)\n"
   ]
  },
  {
   "cell_type": "code",
   "execution_count": 52,
   "id": "f9de13d1-aca0-4d6b-892b-a8bd2642936a",
   "metadata": {},
   "outputs": [
    {
     "name": "stdin",
     "output_type": "stream",
     "text": [
      "enter the age 13\n"
     ]
    },
    {
     "name": "stdout",
     "output_type": "stream",
     "text": [
      "not eligible\n"
     ]
    }
   ],
   "source": [
    "x=int(input(\"enter the age\"))\n",
    "if x>=18:\n",
    "    print(\"eligible for voting\")\n",
    "else:\n",
    "    print(\"not eligible\")"
   ]
  },
  {
   "cell_type": "code",
   "execution_count": null,
   "id": "407d9b13-b8e3-4c1a-872c-4af7daa3729b",
   "metadata": {},
   "outputs": [
    {
     "name": "stdout",
     "output_type": "stream",
     "text": [
      "enter 1 for addition\n",
      "enter 2 for multiplication\n",
      "enter 3 for division\n",
      "enter 4 for subtraction\n"
     ]
    },
    {
     "name": "stdin",
     "output_type": "stream",
     "text": [
      "enter the choice 1\n",
      "enter the no 10\n",
      "enter the second no 20\n"
     ]
    },
    {
     "name": "stdout",
     "output_type": "stream",
     "text": [
      "addition of these is 30\n",
      "enter 1 for addition\n",
      "enter 2 for multiplication\n",
      "enter 3 for division\n",
      "enter 4 for subtraction\n"
     ]
    }
   ],
   "source": [
    "def add(x,y):\n",
    "    print(\"addition of these is\",x+y)\n",
    "def multiply(x,y):\n",
    "    print(\"multiply of these is \",x*y)\n",
    "def divide(x,y):\n",
    "    print(\"division of these is \",x/y)\n",
    "def subtract(x,y):\n",
    "    print(\"subtraction of these is \",x-y)\n",
    "while True:\n",
    "    print(\"enter 1 for addition\")\n",
    "    print(\"enter 2 for multiplication\")\n",
    "    print(\"enter 3 for division\")\n",
    "    print(\"enter 4 for subtraction\")\n",
    "    ch=int(input(\"enter the choice\"))\n",
    "    if ch==1:\n",
    "        x=int(input(\"enter the no\"))\n",
    "        y=int(input(\"enter the second no\"))\n",
    "        add(x,y)\n",
    "    elif ch==2:\n",
    "        x=int(input(\"enter the no\"))\n",
    "        y=int(input(\"enter the second no\"))\n",
    "        multiply(x,y)\n",
    "    elif ch==3:\n",
    "        x=int(input(\"enter the no\"))\n",
    "        y=int(input(\"enter the second no\"))\n",
    "        divide(x,y)\n",
    "    elif ch==4:\n",
    "        x=int(input(\"enter the no\"))\n",
    "        y=int(input(\"enter the second no\"))\n",
    "        subtract(x,y)\n",
    "    else:\n",
    "        print(\"invalid choice\")\n",
    "    \n",
    "    \n",
    "    "
   ]
  },
  {
   "cell_type": "code",
   "execution_count": null,
   "id": "b617cc3b-13e3-4026-b1bb-caa2dad36394",
   "metadata": {},
   "outputs": [],
   "source": []
  }
 ],
 "metadata": {
  "kernelspec": {
   "display_name": "Python [conda env:base] *",
   "language": "python",
   "name": "conda-base-py"
  },
  "language_info": {
   "codemirror_mode": {
    "name": "ipython",
    "version": 3
   },
   "file_extension": ".py",
   "mimetype": "text/x-python",
   "name": "python",
   "nbconvert_exporter": "python",
   "pygments_lexer": "ipython3",
   "version": "3.12.7"
  }
 },
 "nbformat": 4,
 "nbformat_minor": 5
}
